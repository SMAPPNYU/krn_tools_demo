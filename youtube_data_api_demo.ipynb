{
 "cells": [
  {
   "cell_type": "markdown",
   "metadata": {
    "slideshow": {
     "slide_type": "slide"
    }
   },
   "source": [
    "# How to use the YouTube Data API: YoutubeDataApi\n",
    "To find this demo: https://github.com/SMAPPNYU/krn_tools_demo\n",
    "\n",
    "Megan Brown<br>\n",
    "Center for Social Media and Politics at NYU<br>\n",
    "October 13, 2021\n",
    "<hr>"
   ]
  },
  {
   "cell_type": "markdown",
   "metadata": {
    "slideshow": {
     "slide_type": "slide"
    }
   },
   "source": [
    "\n",
    "## Agenda\n",
    "Today we will discuss:\n",
    "\n",
    "1. A brief overview of data available in the YouTube Data API\n",
    "2. How to install the package\n",
    "3. How to create an API key\n",
    "4. A brief look at how to use the package"
   ]
  },
  {
   "cell_type": "markdown",
   "metadata": {
    "slideshow": {
     "slide_type": "slide"
    }
   },
   "source": [
    "# FAQs\n",
    "\n",
    "### So what kind of data can you get?\n",
    "\n",
    "* Short answer: a lot\n",
    "\n",
    "* Comprehensive answer: [here](https://developers.google.com/youtube/v3/docs/)\n",
    "\n",
    "* What is included in the package:\n",
    "    * video metadata\n",
    "    * channel metadata\n",
    "    * playlist metadata\n",
    "    * subscription metadata\n",
    "    * featured channel metadata\n",
    "    * comment metadata\n",
    "    * search results\n",
    "    \n",
    "    \n",
    "#### [Package Reference](https://youtube-data-api.readthedocs.io/en/latest/youtube_api.html)\n",
    "\n"
   ]
  },
  {
   "cell_type": "markdown",
   "metadata": {
    "slideshow": {
     "slide_type": "slide"
    }
   },
   "source": [
    "### What is the difference between a user and a channel?\n",
    "* Essentially: how YouTube stores the data internally.<br>\n",
    "* A user is the name that a content creator registers (ex: **LastWeekTonight**). You cannot use this value to get more information from a user.<br>\n",
    "* The channel id is the internal ID for a given user (ex: **UC3XTzVzaHQEd30rQbuvCtTQ**). You can use this value to get more data about a channel. <br>\n",
    "\n",
    "###### But fear not, there is a solution!\n",
    "Use `yt.get_channel_id_from_user(username)` to get the channel id for a given user.\n",
    "\n",
    "### What is the difference between a featured channel and a subscription?\n",
    "* A subscription is a channel that a user opts into getting updates for\n",
    "* A featured channel is a feature a channel can use to direct their viewers towards other channels"
   ]
  },
  {
   "cell_type": "markdown",
   "metadata": {
    "slideshow": {
     "slide_type": "slide"
    }
   },
   "source": [
    "## How to Install\n",
    "\n",
    "   The software is on PyPI, so you can download it via `pip`\n",
    "   \n",
    "   \n",
    "   `pip install youtube-data-api`\n",
    "   \n",
    "   If you are following along with the tutorial, run `pip install pandas` too."
   ]
  },
  {
   "cell_type": "markdown",
   "metadata": {
    "slideshow": {
     "slide_type": "slide"
    }
   },
   "source": [
    "## How to get an API key\n",
    "\n",
    "### A quick guide: https://developers.google.com/youtube/v3/getting-started\n",
    "\n",
    "1. You need a Google Account to access the Google API Console, request an API key, and register your application. You can use your GMail account for this if you have one.\n",
    "\n",
    "2. Create a project in the <a href=\"https://console.developers.google.com/apis/\">Google Developers Console</a> and <a href=\"https://developers.google.com/youtube/registering_an_application\">obtain authorization credentials</a> so your application can submit API requests.\n",
    "\n",
    "3. After creating your project, make sure the YouTube Data API is one of the services that your application is registered to use.\n",
    "\n",
    "    a. Go to the <a href=\"https://console.developers.google.com/apis/\">API Console</a> and select the project that you just registered.\n",
    "\n",
    "    b. Visit the <a href=\"https://console.developers.google.com/apis/enabled\">Enabled APIs page</a>. In the list of APIs, make sure the status is ON for the YouTube Data API v3. You do not need to enable OAuth 2.0 since there are no methods in the package that require it."
   ]
  },
  {
   "cell_type": "markdown",
   "metadata": {
    "slideshow": {
     "slide_type": "slide"
    }
   },
   "source": [
    "## A brief overview of how to use the package"
   ]
  },
  {
   "cell_type": "code",
   "execution_count": 1,
   "metadata": {
    "slideshow": {
     "slide_type": "skip"
    }
   },
   "outputs": [],
   "source": [
    "import os\n",
    "import datetime\n",
    "import pandas as pd"
   ]
  },
  {
   "cell_type": "code",
   "execution_count": 2,
   "metadata": {
    "slideshow": {
     "slide_type": "fragment"
    }
   },
   "outputs": [],
   "source": [
    "from youtube_api import YoutubeDataApi\n",
    "from youtube_api.youtube_api_utils import *\n",
    "\n",
    "yt = YoutubeDataApi(os.environ.get('YT_KEY'))"
   ]
  },
  {
   "cell_type": "markdown",
   "metadata": {
    "slideshow": {
     "slide_type": "slide"
    }
   },
   "source": [
    "### Starting with a channel name and getting some basic metadata\n",
    "https://www.youtube.com/user/LastWeekTonight"
   ]
  },
  {
   "cell_type": "code",
   "execution_count": 3,
   "metadata": {
    "slideshow": {
     "slide_type": "fragment"
    }
   },
   "outputs": [
    {
     "name": "stdout",
     "output_type": "stream",
     "text": [
      "UC3XTzVzaHQEd30rQbuvCtTQ\n"
     ]
    }
   ],
   "source": [
    "channel_id = yt.get_channel_id_from_user('LastWeekTonight')\n",
    "print(channel_id)"
   ]
  },
  {
   "cell_type": "markdown",
   "metadata": {
    "slideshow": {
     "slide_type": "fragment"
    }
   },
   "source": [
    "You can get more information from this `channel_id`"
   ]
  },
  {
   "cell_type": "code",
   "execution_count": 4,
   "metadata": {
    "slideshow": {
     "slide_type": "fragment"
    }
   },
   "outputs": [
    {
     "data": {
      "text/plain": [
       "{'channel_id': 'UC3XTzVzaHQEd30rQbuvCtTQ',\n",
       " 'title': 'LastWeekTonight',\n",
       " 'account_creation_date': 1395178899.0,\n",
       " 'keywords': None,\n",
       " 'description': 'Breaking news on a weekly basis. Sundays at 11PM - only on HBO.\\nSubscribe to the Last Week Tonight channel for the latest videos from John Oliver and the LWT team.',\n",
       " 'view_count': '3123253533',\n",
       " 'video_count': '362',\n",
       " 'subscription_count': '8780000',\n",
       " 'playlist_id_likes': '',\n",
       " 'playlist_id_uploads': 'UU3XTzVzaHQEd30rQbuvCtTQ',\n",
       " 'topic_ids': 'https://en.wikipedia.org/wiki/Television_program|https://en.wikipedia.org/wiki/Film|https://en.wikipedia.org/wiki/Society|https://en.wikipedia.org/wiki/Entertainment',\n",
       " 'country': None,\n",
       " 'collection_date': datetime.datetime(2021, 10, 12, 17, 56, 3, 728509)}"
      ]
     },
     "execution_count": 4,
     "metadata": {},
     "output_type": "execute_result"
    }
   ],
   "source": [
    "yt.get_channel_metadata(channel_id)"
   ]
  },
  {
   "cell_type": "markdown",
   "metadata": {
    "slideshow": {
     "slide_type": "slide"
    }
   },
   "source": [
    "The default paerser returns the items in the JSON as an `OrderedDict`. Passing `parser = None` returns the raw JSON."
   ]
  },
  {
   "cell_type": "code",
   "execution_count": 5,
   "metadata": {
    "slideshow": {
     "slide_type": "fragment"
    }
   },
   "outputs": [
    {
     "data": {
      "text/plain": [
       "{'kind': 'youtube#channel',\n",
       " 'etag': 'YWXVCLxohx4I-Yu7W6n4pIMT2aQ',\n",
       " 'id': 'UC3XTzVzaHQEd30rQbuvCtTQ',\n",
       " 'snippet': {'title': 'LastWeekTonight',\n",
       "  'description': 'Breaking news on a weekly basis. Sundays at 11PM - only on HBO.\\nSubscribe to the Last Week Tonight channel for the latest videos from John Oliver and the LWT team.',\n",
       "  'publishedAt': '2014-03-18T17:41:39Z',\n",
       "  'thumbnails': {'default': {'url': 'https://yt3.ggpht.com/ytc/AKedOLQ1OolNuEHCzxypefsS-cmOuBMaRoS3bbgkkN2Ocw=s88-c-k-c0x00ffffff-no-rj',\n",
       "    'width': 88,\n",
       "    'height': 88},\n",
       "   'medium': {'url': 'https://yt3.ggpht.com/ytc/AKedOLQ1OolNuEHCzxypefsS-cmOuBMaRoS3bbgkkN2Ocw=s240-c-k-c0x00ffffff-no-rj',\n",
       "    'width': 240,\n",
       "    'height': 240},\n",
       "   'high': {'url': 'https://yt3.ggpht.com/ytc/AKedOLQ1OolNuEHCzxypefsS-cmOuBMaRoS3bbgkkN2Ocw=s800-c-k-c0x00ffffff-no-rj',\n",
       "    'width': 800,\n",
       "    'height': 800}},\n",
       "  'localized': {'title': 'LastWeekTonight',\n",
       "   'description': 'Breaking news on a weekly basis. Sundays at 11PM - only on HBO.\\nSubscribe to the Last Week Tonight channel for the latest videos from John Oliver and the LWT team.'}},\n",
       " 'contentDetails': {'relatedPlaylists': {'likes': '',\n",
       "   'uploads': 'UU3XTzVzaHQEd30rQbuvCtTQ'}},\n",
       " 'statistics': {'viewCount': '3123253533',\n",
       "  'subscriberCount': '8780000',\n",
       "  'hiddenSubscriberCount': False,\n",
       "  'videoCount': '362'},\n",
       " 'topicDetails': {'topicIds': ['/m/098wr', '/m/0f2f9', '/m/02jjt', '/m/02vxn'],\n",
       "  'topicCategories': ['https://en.wikipedia.org/wiki/Society',\n",
       "   'https://en.wikipedia.org/wiki/Television_program',\n",
       "   'https://en.wikipedia.org/wiki/Entertainment',\n",
       "   'https://en.wikipedia.org/wiki/Film']},\n",
       " 'brandingSettings': {'channel': {'title': 'LastWeekTonight',\n",
       "   'description': 'Breaking news on a weekly basis. Sundays at 11PM - only on HBO.\\nSubscribe to the Last Week Tonight channel for the latest videos from John Oliver and the LWT team.',\n",
       "   'unsubscribedTrailer': 'l5jtFqWq5iU'},\n",
       "  'image': {'bannerExternalUrl': 'https://yt3.ggpht.com/SW6LNlsKMVQCRdhF7kD5ajrMIp4o0AZrOBZcIvmJzoxff5WNvUsc_Dd9gYN2WweZLbwjUkp5Ug'}}}"
      ]
     },
     "execution_count": 5,
     "metadata": {},
     "output_type": "execute_result"
    }
   ],
   "source": [
    "yt.get_channel_metadata(channel_id, parser=None)"
   ]
  },
  {
   "cell_type": "code",
   "execution_count": 6,
   "metadata": {
    "scrolled": true,
    "slideshow": {
     "slide_type": "slide"
    }
   },
   "outputs": [
    {
     "data": {
      "text/html": [
       "<div>\n",
       "<style scoped>\n",
       "    .dataframe tbody tr th:only-of-type {\n",
       "        vertical-align: middle;\n",
       "    }\n",
       "\n",
       "    .dataframe tbody tr th {\n",
       "        vertical-align: top;\n",
       "    }\n",
       "\n",
       "    .dataframe thead th {\n",
       "        text-align: right;\n",
       "    }\n",
       "</style>\n",
       "<table border=\"1\" class=\"dataframe\">\n",
       "  <thead>\n",
       "    <tr style=\"text-align: right;\">\n",
       "      <th></th>\n",
       "      <th>subscription_title</th>\n",
       "      <th>subscription_channel_id</th>\n",
       "      <th>subscription_kind</th>\n",
       "      <th>subscription_publish_date</th>\n",
       "      <th>collection_date</th>\n",
       "    </tr>\n",
       "  </thead>\n",
       "  <tbody>\n",
       "    <tr>\n",
       "      <th>0</th>\n",
       "      <td>trueblood</td>\n",
       "      <td>UCPnlBOg4_NU9wdhRN-vzECQ</td>\n",
       "      <td>youtube#channel</td>\n",
       "      <td>1.395357e+09</td>\n",
       "      <td>2021-10-12 17:56:04.386340</td>\n",
       "    </tr>\n",
       "    <tr>\n",
       "      <th>1</th>\n",
       "      <td>GameofThrones</td>\n",
       "      <td>UCQzdMyuz0Lf4zo4uGcEujFw</td>\n",
       "      <td>youtube#channel</td>\n",
       "      <td>1.395357e+09</td>\n",
       "      <td>2021-10-12 17:56:04.386361</td>\n",
       "    </tr>\n",
       "    <tr>\n",
       "      <th>2</th>\n",
       "      <td>HBO</td>\n",
       "      <td>UCVTQuK2CaWaTgSsoNkn5AiQ</td>\n",
       "      <td>youtube#channel</td>\n",
       "      <td>1.395357e+09</td>\n",
       "      <td>2021-10-12 17:56:04.386376</td>\n",
       "    </tr>\n",
       "    <tr>\n",
       "      <th>3</th>\n",
       "      <td>HBOBoxing</td>\n",
       "      <td>UCWPQB43yGKEum3eW0P9N_nQ</td>\n",
       "      <td>youtube#channel</td>\n",
       "      <td>1.395357e+09</td>\n",
       "      <td>2021-10-12 17:56:04.386391</td>\n",
       "    </tr>\n",
       "    <tr>\n",
       "      <th>4</th>\n",
       "      <td>Cinemax</td>\n",
       "      <td>UCYbinjMxWwjRpp4WqgDqEDA</td>\n",
       "      <td>youtube#channel</td>\n",
       "      <td>1.424812e+09</td>\n",
       "      <td>2021-10-12 17:56:04.386406</td>\n",
       "    </tr>\n",
       "  </tbody>\n",
       "</table>\n",
       "</div>"
      ],
      "text/plain": [
       "  subscription_title   subscription_channel_id subscription_kind  \\\n",
       "0          trueblood  UCPnlBOg4_NU9wdhRN-vzECQ   youtube#channel   \n",
       "1      GameofThrones  UCQzdMyuz0Lf4zo4uGcEujFw   youtube#channel   \n",
       "2                HBO  UCVTQuK2CaWaTgSsoNkn5AiQ   youtube#channel   \n",
       "3          HBOBoxing  UCWPQB43yGKEum3eW0P9N_nQ   youtube#channel   \n",
       "4            Cinemax  UCYbinjMxWwjRpp4WqgDqEDA   youtube#channel   \n",
       "\n",
       "   subscription_publish_date            collection_date  \n",
       "0               1.395357e+09 2021-10-12 17:56:04.386340  \n",
       "1               1.395357e+09 2021-10-12 17:56:04.386361  \n",
       "2               1.395357e+09 2021-10-12 17:56:04.386376  \n",
       "3               1.395357e+09 2021-10-12 17:56:04.386391  \n",
       "4               1.424812e+09 2021-10-12 17:56:04.386406  "
      ]
     },
     "execution_count": 6,
     "metadata": {},
     "output_type": "execute_result"
    }
   ],
   "source": [
    "pd.DataFrame(yt.get_subscriptions(channel_id)[:5])"
   ]
  },
  {
   "cell_type": "code",
   "execution_count": 7,
   "metadata": {
    "slideshow": {
     "slide_type": "fragment"
    }
   },
   "outputs": [
    {
     "data": {
      "text/plain": [
       "[{'UC3XTzVzaHQEd30rQbuvCtTQ': []}]"
      ]
     },
     "execution_count": 7,
     "metadata": {},
     "output_type": "execute_result"
    }
   ],
   "source": [
    "yt.get_featured_channels(channel_id)[:2]"
   ]
  },
  {
   "cell_type": "markdown",
   "metadata": {
    "slideshow": {
     "slide_type": "slide"
    }
   },
   "source": [
    "You can convert the `channel_id` into a playlist id to get all the videos ever posted by a channel using a function from the `youtube_api_utils` in the package."
   ]
  },
  {
   "cell_type": "code",
   "execution_count": 8,
   "metadata": {
    "slideshow": {
     "slide_type": "fragment"
    }
   },
   "outputs": [
    {
     "name": "stdout",
     "output_type": "stream",
     "text": [
      "UU3XTzVzaHQEd30rQbuvCtTQ\n"
     ]
    }
   ],
   "source": [
    "from youtube_api.youtube_api_utils import *\n",
    "\n",
    "playlist_id = get_upload_playlist_id(channel_id)\n",
    "print(playlist_id)"
   ]
  },
  {
   "cell_type": "markdown",
   "metadata": {
    "slideshow": {
     "slide_type": "slide"
    }
   },
   "source": [
    "You can now get the videos from this `playlist_id`"
   ]
  },
  {
   "cell_type": "code",
   "execution_count": 9,
   "metadata": {
    "slideshow": {
     "slide_type": "fragment"
    }
   },
   "outputs": [
    {
     "data": {
      "text/html": [
       "<div>\n",
       "<style scoped>\n",
       "    .dataframe tbody tr th:only-of-type {\n",
       "        vertical-align: middle;\n",
       "    }\n",
       "\n",
       "    .dataframe tbody tr th {\n",
       "        vertical-align: top;\n",
       "    }\n",
       "\n",
       "    .dataframe thead th {\n",
       "        text-align: right;\n",
       "    }\n",
       "</style>\n",
       "<table border=\"1\" class=\"dataframe\">\n",
       "  <thead>\n",
       "    <tr style=\"text-align: right;\">\n",
       "      <th></th>\n",
       "      <th>video_id</th>\n",
       "      <th>channel_id</th>\n",
       "      <th>publish_date</th>\n",
       "      <th>collection_date</th>\n",
       "    </tr>\n",
       "  </thead>\n",
       "  <tbody>\n",
       "    <tr>\n",
       "      <th>0</th>\n",
       "      <td>l5jtFqWq5iU</td>\n",
       "      <td>UC3XTzVzaHQEd30rQbuvCtTQ</td>\n",
       "      <td>1.633924e+09</td>\n",
       "      <td>2021-10-12 17:56:04.619552</td>\n",
       "    </tr>\n",
       "    <tr>\n",
       "      <th>1</th>\n",
       "      <td>9W74aeuqsiU</td>\n",
       "      <td>UC3XTzVzaHQEd30rQbuvCtTQ</td>\n",
       "      <td>1.633318e+09</td>\n",
       "      <td>2021-10-12 17:56:04.619573</td>\n",
       "    </tr>\n",
       "    <tr>\n",
       "      <th>2</th>\n",
       "      <td>bl-ABuxeWrE</td>\n",
       "      <td>UC3XTzVzaHQEd30rQbuvCtTQ</td>\n",
       "      <td>1.632948e+09</td>\n",
       "      <td>2021-10-12 17:56:04.619590</td>\n",
       "    </tr>\n",
       "    <tr>\n",
       "      <th>3</th>\n",
       "      <td>EN9OdruH_qM</td>\n",
       "      <td>UC3XTzVzaHQEd30rQbuvCtTQ</td>\n",
       "      <td>1.632716e+09</td>\n",
       "      <td>2021-10-12 17:56:04.619606</td>\n",
       "    </tr>\n",
       "    <tr>\n",
       "      <th>4</th>\n",
       "      <td>27FpoRiStgk</td>\n",
       "      <td>UC3XTzVzaHQEd30rQbuvCtTQ</td>\n",
       "      <td>1.631510e+09</td>\n",
       "      <td>2021-10-12 17:56:04.619621</td>\n",
       "    </tr>\n",
       "  </tbody>\n",
       "</table>\n",
       "</div>"
      ],
      "text/plain": [
       "      video_id                channel_id  publish_date  \\\n",
       "0  l5jtFqWq5iU  UC3XTzVzaHQEd30rQbuvCtTQ  1.633924e+09   \n",
       "1  9W74aeuqsiU  UC3XTzVzaHQEd30rQbuvCtTQ  1.633318e+09   \n",
       "2  bl-ABuxeWrE  UC3XTzVzaHQEd30rQbuvCtTQ  1.632948e+09   \n",
       "3  EN9OdruH_qM  UC3XTzVzaHQEd30rQbuvCtTQ  1.632716e+09   \n",
       "4  27FpoRiStgk  UC3XTzVzaHQEd30rQbuvCtTQ  1.631510e+09   \n",
       "\n",
       "             collection_date  \n",
       "0 2021-10-12 17:56:04.619552  \n",
       "1 2021-10-12 17:56:04.619573  \n",
       "2 2021-10-12 17:56:04.619590  \n",
       "3 2021-10-12 17:56:04.619606  \n",
       "4 2021-10-12 17:56:04.619621  "
      ]
     },
     "execution_count": 9,
     "metadata": {},
     "output_type": "execute_result"
    }
   ],
   "source": [
    "videos = yt.get_videos_from_playlist_id(playlist_id)\n",
    "pd.DataFrame(videos[:5])"
   ]
  },
  {
   "cell_type": "code",
   "execution_count": 10,
   "metadata": {
    "slideshow": {
     "slide_type": "skip"
    }
   },
   "outputs": [],
   "source": [
    "df = pd.DataFrame(videos)"
   ]
  },
  {
   "cell_type": "markdown",
   "metadata": {
    "slideshow": {
     "slide_type": "slide"
    }
   },
   "source": [
    "From here we can get the full video metadata from the videos"
   ]
  },
  {
   "cell_type": "code",
   "execution_count": 11,
   "metadata": {
    "slideshow": {
     "slide_type": "fragment"
    }
   },
   "outputs": [
    {
     "data": {
      "text/html": [
       "<div>\n",
       "<style scoped>\n",
       "    .dataframe tbody tr th:only-of-type {\n",
       "        vertical-align: middle;\n",
       "    }\n",
       "\n",
       "    .dataframe tbody tr th {\n",
       "        vertical-align: top;\n",
       "    }\n",
       "\n",
       "    .dataframe thead th {\n",
       "        text-align: right;\n",
       "    }\n",
       "</style>\n",
       "<table border=\"1\" class=\"dataframe\">\n",
       "  <thead>\n",
       "    <tr style=\"text-align: right;\">\n",
       "      <th></th>\n",
       "      <th>video_id</th>\n",
       "      <th>channel_title</th>\n",
       "      <th>channel_id</th>\n",
       "      <th>video_publish_date</th>\n",
       "      <th>video_title</th>\n",
       "      <th>video_description</th>\n",
       "      <th>video_category</th>\n",
       "      <th>video_view_count</th>\n",
       "      <th>video_comment_count</th>\n",
       "      <th>video_like_count</th>\n",
       "      <th>video_dislike_count</th>\n",
       "      <th>video_thumbnail</th>\n",
       "      <th>video_tags</th>\n",
       "      <th>collection_date</th>\n",
       "    </tr>\n",
       "  </thead>\n",
       "  <tbody>\n",
       "    <tr>\n",
       "      <th>0</th>\n",
       "      <td>l5jtFqWq5iU</td>\n",
       "      <td>LastWeekTonight</td>\n",
       "      <td>UC3XTzVzaHQEd30rQbuvCtTQ</td>\n",
       "      <td>1.633948e+09</td>\n",
       "      <td>Misinformation: Last Week Tonight with John Ol...</td>\n",
       "      <td>John Oliver discusses how misinformation sprea...</td>\n",
       "      <td>24</td>\n",
       "      <td>2593208</td>\n",
       "      <td>10032</td>\n",
       "      <td>92165</td>\n",
       "      <td>4254</td>\n",
       "      <td>https://i.ytimg.com/vi/l5jtFqWq5iU/hqdefault.jpg</td>\n",
       "      <td></td>\n",
       "      <td>2021-10-12 17:56:05.162524</td>\n",
       "    </tr>\n",
       "    <tr>\n",
       "      <th>1</th>\n",
       "      <td>9W74aeuqsiU</td>\n",
       "      <td>LastWeekTonight</td>\n",
       "      <td>UC3XTzVzaHQEd30rQbuvCtTQ</td>\n",
       "      <td>1.633343e+09</td>\n",
       "      <td>PFAS: Last Week Tonight with John Oliver (HBO)</td>\n",
       "      <td>John Oliver discusses PFAS — a class of chemic...</td>\n",
       "      <td>24</td>\n",
       "      <td>3483363</td>\n",
       "      <td>8824</td>\n",
       "      <td>106997</td>\n",
       "      <td>2324</td>\n",
       "      <td>https://i.ytimg.com/vi/9W74aeuqsiU/hqdefault.jpg</td>\n",
       "      <td></td>\n",
       "      <td>2021-10-12 17:56:05.162548</td>\n",
       "    </tr>\n",
       "  </tbody>\n",
       "</table>\n",
       "</div>"
      ],
      "text/plain": [
       "      video_id    channel_title                channel_id  video_publish_date  \\\n",
       "0  l5jtFqWq5iU  LastWeekTonight  UC3XTzVzaHQEd30rQbuvCtTQ        1.633948e+09   \n",
       "1  9W74aeuqsiU  LastWeekTonight  UC3XTzVzaHQEd30rQbuvCtTQ        1.633343e+09   \n",
       "\n",
       "                                         video_title  \\\n",
       "0  Misinformation: Last Week Tonight with John Ol...   \n",
       "1     PFAS: Last Week Tonight with John Oliver (HBO)   \n",
       "\n",
       "                                   video_description video_category  \\\n",
       "0  John Oliver discusses how misinformation sprea...             24   \n",
       "1  John Oliver discusses PFAS — a class of chemic...             24   \n",
       "\n",
       "  video_view_count video_comment_count video_like_count video_dislike_count  \\\n",
       "0          2593208               10032            92165                4254   \n",
       "1          3483363                8824           106997                2324   \n",
       "\n",
       "                                    video_thumbnail video_tags  \\\n",
       "0  https://i.ytimg.com/vi/l5jtFqWq5iU/hqdefault.jpg              \n",
       "1  https://i.ytimg.com/vi/9W74aeuqsiU/hqdefault.jpg              \n",
       "\n",
       "             collection_date  \n",
       "0 2021-10-12 17:56:05.162524  \n",
       "1 2021-10-12 17:56:05.162548  "
      ]
     },
     "execution_count": 11,
     "metadata": {},
     "output_type": "execute_result"
    }
   ],
   "source": [
    "video_meta = yt.get_video_metadata(df.video_id.tolist()[:5])\n",
    "pd.DataFrame(video_meta[:2])"
   ]
  },
  {
   "cell_type": "markdown",
   "metadata": {
    "slideshow": {
     "slide_type": "slide"
    }
   },
   "source": [
    "It is also possible to get the search results from YouTube!"
   ]
  },
  {
   "cell_type": "code",
   "execution_count": 12,
   "metadata": {
    "slideshow": {
     "slide_type": "fragment"
    }
   },
   "outputs": [
    {
     "data": {
      "text/html": [
       "<div>\n",
       "<style scoped>\n",
       "    .dataframe tbody tr th:only-of-type {\n",
       "        vertical-align: middle;\n",
       "    }\n",
       "\n",
       "    .dataframe tbody tr th {\n",
       "        vertical-align: top;\n",
       "    }\n",
       "\n",
       "    .dataframe thead th {\n",
       "        text-align: right;\n",
       "    }\n",
       "</style>\n",
       "<table border=\"1\" class=\"dataframe\">\n",
       "  <thead>\n",
       "    <tr style=\"text-align: right;\">\n",
       "      <th></th>\n",
       "      <th>video_id</th>\n",
       "      <th>channel_title</th>\n",
       "      <th>channel_id</th>\n",
       "      <th>video_publish_date</th>\n",
       "      <th>video_title</th>\n",
       "      <th>video_description</th>\n",
       "      <th>video_category</th>\n",
       "      <th>video_thumbnail</th>\n",
       "      <th>collection_date</th>\n",
       "    </tr>\n",
       "  </thead>\n",
       "  <tbody>\n",
       "    <tr>\n",
       "      <th>0</th>\n",
       "      <td>l5jtFqWq5iU</td>\n",
       "      <td>LastWeekTonight</td>\n",
       "      <td>UC3XTzVzaHQEd30rQbuvCtTQ</td>\n",
       "      <td>1.633948e+09</td>\n",
       "      <td>Misinformation: Last Week Tonight with John Ol...</td>\n",
       "      <td>John Oliver discusses how misinformation sprea...</td>\n",
       "      <td>None</td>\n",
       "      <td>https://i.ytimg.com/vi/l5jtFqWq5iU/hqdefault.jpg</td>\n",
       "      <td>2021-10-12 17:56:05.533022</td>\n",
       "    </tr>\n",
       "    <tr>\n",
       "      <th>1</th>\n",
       "      <td>9W74aeuqsiU</td>\n",
       "      <td>LastWeekTonight</td>\n",
       "      <td>UC3XTzVzaHQEd30rQbuvCtTQ</td>\n",
       "      <td>1.633343e+09</td>\n",
       "      <td>PFAS: Last Week Tonight with John Oliver (HBO)</td>\n",
       "      <td>John Oliver discusses PFAS — a class of chemic...</td>\n",
       "      <td>None</td>\n",
       "      <td>https://i.ytimg.com/vi/9W74aeuqsiU/hqdefault.jpg</td>\n",
       "      <td>2021-10-12 17:56:05.533045</td>\n",
       "    </tr>\n",
       "  </tbody>\n",
       "</table>\n",
       "</div>"
      ],
      "text/plain": [
       "      video_id    channel_title                channel_id  video_publish_date  \\\n",
       "0  l5jtFqWq5iU  LastWeekTonight  UC3XTzVzaHQEd30rQbuvCtTQ        1.633948e+09   \n",
       "1  9W74aeuqsiU  LastWeekTonight  UC3XTzVzaHQEd30rQbuvCtTQ        1.633343e+09   \n",
       "\n",
       "                                         video_title  \\\n",
       "0  Misinformation: Last Week Tonight with John Ol...   \n",
       "1     PFAS: Last Week Tonight with John Oliver (HBO)   \n",
       "\n",
       "                                   video_description video_category  \\\n",
       "0  John Oliver discusses how misinformation sprea...           None   \n",
       "1  John Oliver discusses PFAS — a class of chemic...           None   \n",
       "\n",
       "                                    video_thumbnail            collection_date  \n",
       "0  https://i.ytimg.com/vi/l5jtFqWq5iU/hqdefault.jpg 2021-10-12 17:56:05.533022  \n",
       "1  https://i.ytimg.com/vi/9W74aeuqsiU/hqdefault.jpg 2021-10-12 17:56:05.533045  "
      ]
     },
     "execution_count": 12,
     "metadata": {},
     "output_type": "execute_result"
    }
   ],
   "source": [
    "pd.DataFrame(yt.search(q='john oliver', max_results=2))"
   ]
  },
  {
   "cell_type": "markdown",
   "metadata": {
    "slideshow": {
     "slide_type": "slide"
    }
   },
   "source": [
    "For videos, you can get the comments as well"
   ]
  },
  {
   "cell_type": "code",
   "execution_count": 13,
   "metadata": {
    "slideshow": {
     "slide_type": "fragment"
    }
   },
   "outputs": [
    {
     "data": {
      "text/html": [
       "<div>\n",
       "<style scoped>\n",
       "    .dataframe tbody tr th:only-of-type {\n",
       "        vertical-align: middle;\n",
       "    }\n",
       "\n",
       "    .dataframe tbody tr th {\n",
       "        vertical-align: top;\n",
       "    }\n",
       "\n",
       "    .dataframe thead th {\n",
       "        text-align: right;\n",
       "    }\n",
       "</style>\n",
       "<table border=\"1\" class=\"dataframe\">\n",
       "  <thead>\n",
       "    <tr style=\"text-align: right;\">\n",
       "      <th></th>\n",
       "      <th>video_id</th>\n",
       "      <th>commenter_channel_url</th>\n",
       "      <th>commenter_channel_id</th>\n",
       "      <th>commenter_channel_display_name</th>\n",
       "      <th>comment_id</th>\n",
       "      <th>comment_like_count</th>\n",
       "      <th>comment_publish_date</th>\n",
       "      <th>text</th>\n",
       "      <th>commenter_rating</th>\n",
       "      <th>comment_parent_id</th>\n",
       "      <th>collection_date</th>\n",
       "      <th>reply_count</th>\n",
       "    </tr>\n",
       "  </thead>\n",
       "  <tbody>\n",
       "    <tr>\n",
       "      <th>0</th>\n",
       "      <td>l5jtFqWq5iU</td>\n",
       "      <td>http://www.youtube.com/channel/UCczD4NbC6xYgwy...</td>\n",
       "      <td>UCczD4NbC6xYgwyl7omx1JBw</td>\n",
       "      <td>Mayank Arora</td>\n",
       "      <td>UgyuNPDriYURYt4yJ1V4AaABAg</td>\n",
       "      <td>0</td>\n",
       "      <td>1.634090e+09</td>\n",
       "      <td>HE’S NOT WRONG ABOUT INDIANS LMFAOOOOOO</td>\n",
       "      <td>none</td>\n",
       "      <td>None</td>\n",
       "      <td>2021-10-12 17:56:05.734476</td>\n",
       "      <td>0</td>\n",
       "    </tr>\n",
       "    <tr>\n",
       "      <th>1</th>\n",
       "      <td>l5jtFqWq5iU</td>\n",
       "      <td>http://www.youtube.com/channel/UCfzlGh0-ptX3T6...</td>\n",
       "      <td>UCfzlGh0-ptX3T6h1zNsSwhQ</td>\n",
       "      <td>marcbwilson</td>\n",
       "      <td>UgziXJAyIT_h7BKntAF4AaABAg</td>\n",
       "      <td>0</td>\n",
       "      <td>1.634090e+09</td>\n",
       "      <td>\"or as it's known in America, the Marvel Cinem...</td>\n",
       "      <td>none</td>\n",
       "      <td>None</td>\n",
       "      <td>2021-10-12 17:56:05.734501</td>\n",
       "      <td>0</td>\n",
       "    </tr>\n",
       "    <tr>\n",
       "      <th>2</th>\n",
       "      <td>l5jtFqWq5iU</td>\n",
       "      <td>http://www.youtube.com/channel/UCJGL2cLxE0kcU8...</td>\n",
       "      <td>UCJGL2cLxE0kcU8as1Cdgkmw</td>\n",
       "      <td>KasonWhitsell</td>\n",
       "      <td>UgzFy7PYJYuSVteT1HV4AaABAg</td>\n",
       "      <td>0</td>\n",
       "      <td>1.634090e+09</td>\n",
       "      <td>A large problem is the quantity of what bullsh...</td>\n",
       "      <td>none</td>\n",
       "      <td>None</td>\n",
       "      <td>2021-10-12 17:56:05.734519</td>\n",
       "      <td>0</td>\n",
       "    </tr>\n",
       "    <tr>\n",
       "      <th>3</th>\n",
       "      <td>l5jtFqWq5iU</td>\n",
       "      <td>http://www.youtube.com/channel/UC8_aUc9vnTE_ue...</td>\n",
       "      <td>UC8_aUc9vnTE_uehi8IbYMjQ</td>\n",
       "      <td>amit nagpal</td>\n",
       "      <td>UgxL_YXfDhOl6Bxpurl4AaABAg</td>\n",
       "      <td>0</td>\n",
       "      <td>1.634090e+09</td>\n",
       "      <td>One of my uncles got so offended because I nev...</td>\n",
       "      <td>none</td>\n",
       "      <td>None</td>\n",
       "      <td>2021-10-12 17:56:05.734537</td>\n",
       "      <td>0</td>\n",
       "    </tr>\n",
       "    <tr>\n",
       "      <th>4</th>\n",
       "      <td>l5jtFqWq5iU</td>\n",
       "      <td>http://www.youtube.com/channel/UCuXH1QkoSrXxxa...</td>\n",
       "      <td>UCuXH1QkoSrXxxad2FVKqrXA</td>\n",
       "      <td>manb00</td>\n",
       "      <td>UgwjIaTFV6XY7A8zyZl4AaABAg</td>\n",
       "      <td>0</td>\n",
       "      <td>1.634090e+09</td>\n",
       "      <td>Stopped listening after the drug that won a no...</td>\n",
       "      <td>none</td>\n",
       "      <td>None</td>\n",
       "      <td>2021-10-12 17:56:05.734553</td>\n",
       "      <td>0</td>\n",
       "    </tr>\n",
       "  </tbody>\n",
       "</table>\n",
       "</div>"
      ],
      "text/plain": [
       "      video_id                              commenter_channel_url  \\\n",
       "0  l5jtFqWq5iU  http://www.youtube.com/channel/UCczD4NbC6xYgwy...   \n",
       "1  l5jtFqWq5iU  http://www.youtube.com/channel/UCfzlGh0-ptX3T6...   \n",
       "2  l5jtFqWq5iU  http://www.youtube.com/channel/UCJGL2cLxE0kcU8...   \n",
       "3  l5jtFqWq5iU  http://www.youtube.com/channel/UC8_aUc9vnTE_ue...   \n",
       "4  l5jtFqWq5iU  http://www.youtube.com/channel/UCuXH1QkoSrXxxa...   \n",
       "\n",
       "       commenter_channel_id commenter_channel_display_name  \\\n",
       "0  UCczD4NbC6xYgwyl7omx1JBw                   Mayank Arora   \n",
       "1  UCfzlGh0-ptX3T6h1zNsSwhQ                    marcbwilson   \n",
       "2  UCJGL2cLxE0kcU8as1Cdgkmw                  KasonWhitsell   \n",
       "3  UC8_aUc9vnTE_uehi8IbYMjQ                    amit nagpal   \n",
       "4  UCuXH1QkoSrXxxad2FVKqrXA                         manb00   \n",
       "\n",
       "                   comment_id  comment_like_count  comment_publish_date  \\\n",
       "0  UgyuNPDriYURYt4yJ1V4AaABAg                   0          1.634090e+09   \n",
       "1  UgziXJAyIT_h7BKntAF4AaABAg                   0          1.634090e+09   \n",
       "2  UgzFy7PYJYuSVteT1HV4AaABAg                   0          1.634090e+09   \n",
       "3  UgxL_YXfDhOl6Bxpurl4AaABAg                   0          1.634090e+09   \n",
       "4  UgwjIaTFV6XY7A8zyZl4AaABAg                   0          1.634090e+09   \n",
       "\n",
       "                                                text commenter_rating  \\\n",
       "0            HE’S NOT WRONG ABOUT INDIANS LMFAOOOOOO             none   \n",
       "1  \"or as it's known in America, the Marvel Cinem...             none   \n",
       "2  A large problem is the quantity of what bullsh...             none   \n",
       "3  One of my uncles got so offended because I nev...             none   \n",
       "4  Stopped listening after the drug that won a no...             none   \n",
       "\n",
       "  comment_parent_id            collection_date  reply_count  \n",
       "0              None 2021-10-12 17:56:05.734476            0  \n",
       "1              None 2021-10-12 17:56:05.734501            0  \n",
       "2              None 2021-10-12 17:56:05.734519            0  \n",
       "3              None 2021-10-12 17:56:05.734537            0  \n",
       "4              None 2021-10-12 17:56:05.734553            0  "
      ]
     },
     "execution_count": 13,
     "metadata": {},
     "output_type": "execute_result"
    }
   ],
   "source": [
    "comments = yt.get_video_comments('l5jtFqWq5iU', max_results=10)\n",
    "pd.DataFrame(comments[:5])"
   ]
  },
  {
   "cell_type": "markdown",
   "metadata": {
    "slideshow": {
     "slide_type": "slide"
    }
   },
   "source": [
    "Thank you!\n",
    "\n",
    "You can find out more about the package at https://github.com/SMAPPNYU/youtube-data-api.git"
   ]
  }
 ],
 "metadata": {
  "celltoolbar": "Slideshow",
  "kernelspec": {
   "display_name": "Python 3",
   "language": "python",
   "name": "python3"
  },
  "language_info": {
   "codemirror_mode": {
    "name": "ipython",
    "version": 3
   },
   "file_extension": ".py",
   "mimetype": "text/x-python",
   "name": "python",
   "nbconvert_exporter": "python",
   "pygments_lexer": "ipython3",
   "version": "3.8.3"
  }
 },
 "nbformat": 4,
 "nbformat_minor": 4
}
